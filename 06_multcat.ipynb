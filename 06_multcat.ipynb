{
  "nbformat": 4,
  "nbformat_minor": 0,
  "metadata": {
    "colab": {
      "name": "06_multcat.ipynb",
      "provenance": [],
      "collapsed_sections": []
    },
    "kernelspec": {
      "name": "python3",
      "display_name": "Python 3"
    },
    "language_info": {
      "name": "python"
    },
    "accelerator": "GPU"
  },
  "cells": [
    {
      "cell_type": "code",
      "metadata": {
        "id": "Jq0h3A3AS8jI"
      },
      "source": [
        "# !pip install -Uqq fastbook\n",
        "import fastbook\n",
        "fastbook.setup_book()\n",
        "from fastbook import *\n",
        "from fastai.vision.all import *"
      ],
      "execution_count": null,
      "outputs": []
    },
    {
      "cell_type": "markdown",
      "metadata": {
        "id": "9VqHp9IETPtn"
      },
      "source": [
        "# Multi-label classification"
      ]
    },
    {
      "cell_type": "code",
      "metadata": {
        "id": "YXnRzHDCTCHS"
      },
      "source": [
        "path = untar_data(URLs.PASCAL_2007)"
      ],
      "execution_count": null,
      "outputs": []
    },
    {
      "cell_type": "code",
      "metadata": {
        "id": "SKly6l7ATTx2"
      },
      "source": [
        "df = pd.read_csv(path/'train.csv')\n",
        "df.head()"
      ],
      "execution_count": null,
      "outputs": []
    },
    {
      "cell_type": "code",
      "metadata": {
        "id": "Sat0nOs7XM35"
      },
      "source": [
        "df['fname']"
      ],
      "execution_count": null,
      "outputs": []
    },
    {
      "cell_type": "markdown",
      "metadata": {
        "id": "ZPMl2wS-Xzbi"
      },
      "source": [
        "# Constructing a data block\n",
        "  - Dataset: A collection that returns a tuple of your independent and dependent variable for a single item\n",
        "  - DataLoader: An iterator that provides a stream of mini-batches, where each mini-batch is a tuple of a batch of independent variables and a batch of dependent variables\n",
        "  - fastAI\n",
        "    - Datasets: An object that contains a training ***Dataset*** and a validation ***Dataset***\n",
        "    - DataLoaders: An object that contains a training ***DataLoader*** and a validation ***DataLoader***\n"
      ]
    },
    {
      "cell_type": "code",
      "metadata": {
        "id": "tER4Nl6rXgYA"
      },
      "source": [
        "a = list(enumerate(string.ascii_lowercase))\n",
        "a[0], len(a)"
      ],
      "execution_count": null,
      "outputs": []
    },
    {
      "cell_type": "code",
      "metadata": {
        "id": "BIYWxfI1X7sB"
      },
      "source": [
        "dl_a = DataLoader(a, batch_size= 8, shuffle= True)\n",
        "b = first(dl_a)\n",
        "b"
      ],
      "execution_count": null,
      "outputs": []
    },
    {
      "cell_type": "code",
      "metadata": {
        "id": "qT1766hNYxTQ"
      },
      "source": [
        "list(zip(b[0], b[1]))"
      ],
      "execution_count": null,
      "outputs": []
    },
    {
      "cell_type": "code",
      "metadata": {
        "id": "-1i2x6EZY6kF"
      },
      "source": [
        "list(zip(*b))"
      ],
      "execution_count": null,
      "outputs": []
    },
    {
      "cell_type": "code",
      "metadata": {
        "id": "eTzoLNOlY_Lh"
      },
      "source": [
        "a = list(string.ascii_lowercase)\n",
        "a[0], len(a)"
      ],
      "execution_count": null,
      "outputs": []
    },
    {
      "cell_type": "code",
      "metadata": {
        "id": "x8G3Ru-PZwzo"
      },
      "source": [
        "dss = Datasets(a)\n",
        "dss[0]"
      ],
      "execution_count": null,
      "outputs": []
    },
    {
      "cell_type": "code",
      "metadata": {
        "id": "yUcOLyBLZz1h"
      },
      "source": [
        "def f1(o): return o+'a'\n",
        "def f2(o): return o+'b'\n"
      ],
      "execution_count": null,
      "outputs": []
    },
    {
      "cell_type": "code",
      "metadata": {
        "id": "dyjlnu_IZ6AL"
      },
      "source": [
        "dss = Datasets(a, [[f1]])\n",
        "dss[0]"
      ],
      "execution_count": null,
      "outputs": []
    },
    {
      "cell_type": "code",
      "metadata": {
        "id": "I-AdrjeVZ-Kr"
      },
      "source": [
        "dss = Datasets(a, [[f1, f2]])\n",
        "dss[0]"
      ],
      "execution_count": null,
      "outputs": []
    },
    {
      "cell_type": "code",
      "metadata": {
        "id": "0gkL27ckaWiQ"
      },
      "source": [
        "dss = Datasets(a, [[f1], [f2]])\n",
        "dss[0]"
      ],
      "execution_count": null,
      "outputs": []
    },
    {
      "cell_type": "code",
      "metadata": {
        "id": "1vPI7PZiadGU"
      },
      "source": [
        "dls = DataLoaders.from_dsets(dss, batch_size= 4) "
      ],
      "execution_count": null,
      "outputs": []
    },
    {
      "cell_type": "code",
      "metadata": {
        "id": "iD1ePvcgaxcm"
      },
      "source": [
        "first(dls.train)"
      ],
      "execution_count": null,
      "outputs": []
    },
    {
      "cell_type": "code",
      "metadata": {
        "id": "3OXArGSca5Fv"
      },
      "source": [
        "dblock = DataBlock()"
      ],
      "execution_count": null,
      "outputs": []
    },
    {
      "cell_type": "code",
      "metadata": {
        "id": "3B_VTZ25bBjW"
      },
      "source": [
        "dsets = dblock.datasets(df)"
      ],
      "execution_count": null,
      "outputs": []
    },
    {
      "cell_type": "code",
      "metadata": {
        "id": "OBg5v34XbEmk"
      },
      "source": [
        "len(dsets.train), len(dsets.valid)"
      ],
      "execution_count": null,
      "outputs": []
    },
    {
      "cell_type": "code",
      "metadata": {
        "id": "Ckso13hvbh1F"
      },
      "source": [
        "x, y = dsets.train[0]\n",
        "x, y"
      ],
      "execution_count": null,
      "outputs": []
    },
    {
      "cell_type": "code",
      "metadata": {
        "id": "qHC9plrQbmhV"
      },
      "source": [
        "dblock = DataBlock(get_x= lambda r: r['fname'], get_y = lambda r: r['labels'])\n",
        "dsets = dblock.datasets(df)\n",
        "dsets.train[0]"
      ],
      "execution_count": null,
      "outputs": []
    },
    {
      "cell_type": "code",
      "metadata": {
        "id": "HzVVcPkEcD67"
      },
      "source": [
        "def get_x(r): return r['fname']\n",
        "def get_y(r): return r['labels']\n",
        "dblock = DataBlock(get_x= get_x, get_y = get_y)\n",
        "dsets = dblock.datasets(df)\n",
        "dsets.train[0]"
      ],
      "execution_count": null,
      "outputs": []
    },
    {
      "cell_type": "code",
      "metadata": {
        "id": "elkFmytmcd9x"
      },
      "source": [
        "Path.BASE_PATH = path"
      ],
      "execution_count": null,
      "outputs": []
    },
    {
      "cell_type": "code",
      "metadata": {
        "id": "cqufzqIGcvEH"
      },
      "source": [
        "def get_x(r): return path/'train'/r['fname']\n",
        "def get_y(r): return r['labels'].split(' ')\n",
        "dblock = DataBlock(get_x= get_x, get_y= get_y)\n",
        "dsets = dblock.datasets(df)\n",
        "dsets.train[0]"
      ],
      "execution_count": null,
      "outputs": []
    },
    {
      "cell_type": "code",
      "metadata": {
        "id": "Y90dxmtjdEkZ"
      },
      "source": [
        "dblock =DataBlock(blocks= (ImageBlock, MultiCategoryBlock), get_x= get_x, get_y = get_y)\n",
        "dsets = dblock.datasets(df)\n",
        "dsets.train[0]"
      ],
      "execution_count": null,
      "outputs": []
    },
    {
      "cell_type": "code",
      "metadata": {
        "id": "o6F1OALudUNS"
      },
      "source": [
        "idxs = torch.where(dsets.train[0][1] == 1.)[0]\n",
        "dsets.train.vocab[idxs]"
      ],
      "execution_count": null,
      "outputs": []
    },
    {
      "cell_type": "code",
      "metadata": {
        "id": "Uoc8WqCPfPNJ"
      },
      "source": [
        "def splitter(df):\n",
        "    train = df.index[~df['is_valid']].tolist()\n",
        "    valid = df.index[df['is_valid']].tolist()\n",
        "    return train,valid\n",
        "\n",
        "dblock = DataBlock(blocks=(ImageBlock, MultiCategoryBlock),\n",
        "                   splitter=splitter,\n",
        "                   get_x=get_x, \n",
        "                   get_y=get_y)\n",
        "\n",
        "dsets = dblock.datasets(df)\n",
        "dsets.train[0]"
      ],
      "execution_count": null,
      "outputs": []
    },
    {
      "cell_type": "code",
      "metadata": {
        "id": "lOyN4xWgdp5c"
      },
      "source": [
        "dblock = DataBlock(blocks=(ImageBlock, MultiCategoryBlock),\n",
        "                   splitter=splitter,\n",
        "                   get_x=get_x, \n",
        "                   get_y=get_y,\n",
        "                   item_tfms = RandomResizedCrop(128, min_scale=0.35))\n",
        "dls = dblock.dataloaders(df)\n"
      ],
      "execution_count": null,
      "outputs": []
    },
    {
      "cell_type": "code",
      "metadata": {
        "id": "2nr3pY1qe7Jz"
      },
      "source": [
        "dls.show_batch(nrows= 1, ncols= 3)"
      ],
      "execution_count": null,
      "outputs": []
    },
    {
      "cell_type": "code",
      "metadata": {
        "id": "_jFhUw_2flKb"
      },
      "source": [
        "learn = cnn_learner(dls, resnet18)"
      ],
      "execution_count": null,
      "outputs": []
    },
    {
      "cell_type": "code",
      "metadata": {
        "id": "ukW3KceGfyWK"
      },
      "source": [
        "x, y = to_cpu(dls.train.one_batch())\n",
        "activs = learn.model(x)\n",
        "activs.shape"
      ],
      "execution_count": null,
      "outputs": []
    },
    {
      "cell_type": "code",
      "metadata": {
        "id": "wcdrIyQxf4UF"
      },
      "source": [
        "activs[0]"
      ],
      "execution_count": null,
      "outputs": []
    },
    {
      "cell_type": "code",
      "metadata": {
        "id": "3bNGqT5kgbzu"
      },
      "source": [
        "def binary_cross_entropy(inputs, targets):\n",
        "    inputs = inputs.sigmid()\n",
        "    return torch.where(targets == 1, 1- inputs, inputs).log().mean()"
      ],
      "execution_count": null,
      "outputs": []
    },
    {
      "cell_type": "code",
      "metadata": {
        "id": "mt2igWW_hOJ-"
      },
      "source": [
        "loss_func = nn.BCEWithLogitsLoss()\n",
        "loss = loss_func(activs, y)\n",
        "loss"
      ],
      "execution_count": null,
      "outputs": []
    },
    {
      "cell_type": "code",
      "metadata": {
        "id": "Xm_mYxbsh-qw"
      },
      "source": [
        ""
      ],
      "execution_count": null,
      "outputs": []
    }
  ]
}