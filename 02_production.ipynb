{
  "nbformat": 4,
  "nbformat_minor": 0,
  "metadata": {
    "colab": {
      "name": "02_production.ipynb",
      "provenance": [],
      "collapsed_sections": []
    },
    "kernelspec": {
      "name": "python3",
      "display_name": "Python 3"
    },
    "language_info": {
      "name": "python"
    },
    "accelerator": "GPU"
  },
  "cells": [
    {
      "cell_type": "code",
      "metadata": {
        "id": "dNtq-FBw07zc"
      },
      "source": [
        "# !pip install -Uqq fastbook\n",
        "import fastbook\n",
        "fastbook.setup_book()\n",
        "from fastbook import *\n",
        "from fastai.vision.widgets import *"
      ],
      "execution_count": null,
      "outputs": []
    },
    {
      "cell_type": "markdown",
      "metadata": {
        "id": "wK-0-574BMWY"
      },
      "source": [
        "## Classifcation\n",
        "  - A classification model is one which attempts to predict a class, or category. That is, predicting from a number of discrete possibilities such as 'dog' or 'cat'\n",
        "\n",
        "## Regression\n",
        " - A regression model is one which attempts to predict one or more numberic quantities, such as temperature, or a location.\n",
        "\n",
        "## Transfer learning\n",
        "- Using a ***pretrained*** model for a task different to what it was originally trained for.\n",
        "- more quickly, less data \n",
        "\n",
        "\n",
        "## The state of deep learning\n",
        "- Vision\n",
        "    - Detection, Classification\n",
        "- Text\n",
        "    - Classification, Conversation\n",
        "- Tabular\n",
        "    - High cardinality, GPU(Rapids)\n",
        "- Recsys\n",
        "    - Prediction(Recommendation)\n",
        "- Multi-modal\n",
        "    - Labeling, Captioning, Human in the loop\n",
        "- Other\n",
        "    - NLP -> Protein"
      ]
    },
    {
      "cell_type": "markdown",
      "metadata": {
        "id": "LNzfLWFDSJKm"
      },
      "source": [
        "# High Temperature and High Humidity Reduces the Transmission of COVID-19 \n",
        "- How might we dicide if there's a relationship? \n",
        "  1. Pick a null hypothesis\n",
        "    - e.g ***No relationship***\n",
        "  2. Gather data of independent * dependent variables\n",
        "    - Temperature & R ( R is a measureof transmissibility)\n",
        "  3. What % of time would we see that relationship by chance ?"
      ]
    },
    {
      "cell_type": "code",
      "metadata": {
        "id": "xPwdmoGP8O9D"
      },
      "source": [
        "key = 'API_KEY'"
      ],
      "execution_count": null,
      "outputs": []
    },
    {
      "cell_type": "code",
      "metadata": {
        "id": "VQh3iwCMcKX7"
      },
      "source": [
        "search_images_bing"
      ],
      "execution_count": null,
      "outputs": []
    },
    {
      "cell_type": "code",
      "metadata": {
        "id": "kDKkh_32ceYr"
      },
      "source": [
        "results = search_images_bing(key, 'grizzly bear')\n",
        "ims = results.attrgot('contentUrl')\n",
        "len(ims)"
      ],
      "execution_count": null,
      "outputs": []
    },
    {
      "cell_type": "code",
      "metadata": {
        "id": "ML8ce19ZcofB"
      },
      "source": [
        "bear_types = 'grizzly','black','teddy'\n",
        "path = Path('bears')"
      ],
      "execution_count": null,
      "outputs": []
    },
    {
      "cell_type": "code",
      "metadata": {
        "id": "D3boa3PHeUJ0"
      },
      "source": [
        "if not path.exists():\n",
        "    path.mkdir()\n",
        "    for o in bear_types:\n",
        "      print(o)\n",
        "      dest = (path/o)\n",
        "      dest.mkdir(exist_ok=True)\n",
        "      results = search_images_bing(key, f'{o} bear')\n",
        "      download_images(dest, urls=results.attrgot('contentUrl'))"
      ],
      "execution_count": null,
      "outputs": []
    },
    {
      "cell_type": "code",
      "metadata": {
        "id": "q7aeEVLSezsA"
      },
      "source": [
        "fns = get_image_files(path)\n",
        "fns"
      ],
      "execution_count": null,
      "outputs": []
    },
    {
      "cell_type": "code",
      "metadata": {
        "id": "7tDCeNS9fFRa"
      },
      "source": [
        "failed= verify_images(fns)\n",
        "failed"
      ],
      "execution_count": null,
      "outputs": []
    },
    {
      "cell_type": "code",
      "metadata": {
        "id": "Iat043l_gGHy"
      },
      "source": [
        "failed.map(Path.unlink)"
      ],
      "execution_count": null,
      "outputs": []
    },
    {
      "cell_type": "markdown",
      "metadata": {
        "id": "iaSyuGlFgaIm"
      },
      "source": [
        "# From data to DataLoaders"
      ]
    },
    {
      "cell_type": "code",
      "metadata": {
        "id": "y5QPdVPMgf8V"
      },
      "source": [
        "bears = DataBlock(\n",
        "    blocks = (ImageBlock, CategoryBlock),\n",
        "    get_items = get_image_files,\n",
        "    splitter = RandomSplitter(valid_pct= 0.2, seed= 42),\n",
        "    get_y = parent_label,\n",
        "    item_tfms = Resize(128)\n",
        ")"
      ],
      "execution_count": null,
      "outputs": []
    },
    {
      "cell_type": "code",
      "metadata": {
        "id": "jbSBmv5ghdHI"
      },
      "source": [
        "dls = bears.dataloaders(path)"
      ],
      "execution_count": null,
      "outputs": []
    },
    {
      "cell_type": "code",
      "metadata": {
        "id": "FnBOTm0jh3t9"
      },
      "source": [
        "dls.valid.show_batch(max_n= 4, nrows= 1)"
      ],
      "execution_count": null,
      "outputs": []
    },
    {
      "cell_type": "markdown",
      "metadata": {
        "id": "3DIRzd2DiR0k"
      },
      "source": [
        "# Training your model, and using it to clean your data."
      ]
    },
    {
      "cell_type": "code",
      "metadata": {
        "id": "7nSrcsOIiaIA"
      },
      "source": [
        "bears = bears.new(\n",
        "    item_tfms= RandomResizedCrop(224, min_scale= 0.5),\n",
        "    batch_tfms = aug_transforms()\n",
        ")\n",
        "\n",
        "dls = bears.dataloaders(path)"
      ],
      "execution_count": null,
      "outputs": []
    },
    {
      "cell_type": "code",
      "metadata": {
        "id": "MuF048whiw5E"
      },
      "source": [
        "learn = cnn_learner(dls, resnet18, metrics= error_rate)\n",
        "learn.fine_tune(4)"
      ],
      "execution_count": null,
      "outputs": []
    },
    {
      "cell_type": "code",
      "metadata": {
        "id": "ndCEJuZYi4sa"
      },
      "source": [
        "interp = ClassificationInterpretation.from_learner(learn)\n",
        "interp.plot_confusion_matrix()"
      ],
      "execution_count": null,
      "outputs": []
    },
    {
      "cell_type": "code",
      "metadata": {
        "id": "COKT5S1bjIZm"
      },
      "source": [
        "interp.plot_top_losses(5, nrow= 1)"
      ],
      "execution_count": null,
      "outputs": []
    },
    {
      "cell_type": "markdown",
      "metadata": {
        "id": "9RAU47gwlCCP"
      },
      "source": [
        ""
      ]
    },
    {
      "cell_type": "markdown",
      "metadata": {
        "id": "qON4jTU9k0Ma"
      },
      "source": [
        "# Tuning your model into an online application"
      ]
    },
    {
      "cell_type": "markdown",
      "metadata": {
        "id": "qt13QMy2k_LO"
      },
      "source": [
        "## Using the model for inference"
      ]
    },
    {
      "cell_type": "code",
      "metadata": {
        "id": "5XvXGtLgkEon"
      },
      "source": [
        "learn.export()"
      ],
      "execution_count": null,
      "outputs": []
    },
    {
      "cell_type": "code",
      "metadata": {
        "id": "FzECHr7blFZo"
      },
      "source": [
        "path = Path()\n",
        "path.ls(file_exts= '.pkl')"
      ],
      "execution_count": null,
      "outputs": []
    },
    {
      "cell_type": "code",
      "metadata": {
        "id": "QK4CN5u7lIDV"
      },
      "source": [
        "learn_inf = load_learner(path/'export.pkl')"
      ],
      "execution_count": null,
      "outputs": []
    }
  ]
}